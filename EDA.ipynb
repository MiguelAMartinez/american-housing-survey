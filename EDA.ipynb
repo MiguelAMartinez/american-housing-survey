{
 "cells": [
  {
   "cell_type": "markdown",
   "metadata": {},
   "source": [
    "# American Housing Survey Project"
   ]
  },
  {
   "cell_type": "markdown",
   "metadata": {},
   "source": [
    "Explore year 2013 of national and metro datasets from the [Housing Affordability Data System (HADS)](https://www.huduser.gov/portal/datasets/hads/hads.html) data source."
   ]
  },
  {
   "cell_type": "code",
   "execution_count": 33,
   "metadata": {},
   "outputs": [],
   "source": [
    "import time\n",
    "import numpy as np\n",
    "import pandas as pd\n",
    "import matplotlib.pyplot as plt\n",
    "import seaborn as sns\n",
    "from urllib.request import urlopen\n",
    "from zipfile import ZipFile\n",
    "from io import BytesIO\n",
    "import os.path\n",
    "\n",
    "%matplotlib inline\n",
    "\n"
   ]
  },
  {
   "cell_type": "markdown",
   "metadata": {},
   "source": [
    "### Read data"
   ]
  },
  {
   "cell_type": "code",
   "execution_count": 34,
   "metadata": {},
   "outputs": [],
   "source": [
    "# Read Natinal Data \n",
    "national_url = 'https://www.huduser.gov/portal/datasets/hads/hads2013n_ASCII.zip'\n",
    "national_file = 'thads2013n.txt'\n",
    "\n",
    "if os.path.exists(national_file):\n",
    "    df_national = pd.read_csv(national_file)\n",
    "else: \n",
    "    z_national = urlopen(national_url)\n",
    "    zip_national = ZipFile(BytesIO(z_national.read())).extract(national_file)\n",
    "    df_national = pd.read_csv(zip_national)"
   ]
  },
  {
   "cell_type": "code",
   "execution_count": 35,
   "metadata": {
    "scrolled": true
   },
   "outputs": [
    {
     "name": "stdout",
     "output_type": "stream",
     "text": [
      "<class 'pandas.core.frame.DataFrame'>\n",
      "RangeIndex: 64535 entries, 0 to 64534\n",
      "Data columns (total 99 columns):\n",
      "CONTROL                64535 non-null object\n",
      "AGE1                   64535 non-null int64\n",
      "METRO3                 64535 non-null object\n",
      "REGION                 64535 non-null object\n",
      "LMED                   64535 non-null int64\n",
      "FMR                    64535 non-null int64\n",
      "L30                    64535 non-null int64\n",
      "L50                    64535 non-null int64\n",
      "L80                    64535 non-null int64\n",
      "IPOV                   64535 non-null int64\n",
      "BEDRMS                 64535 non-null int64\n",
      "BUILT                  64535 non-null int64\n",
      "STATUS                 64535 non-null object\n",
      "TYPE                   64535 non-null int64\n",
      "VALUE                  64535 non-null int64\n",
      "VACANCY                64535 non-null int64\n",
      "TENURE                 64535 non-null object\n",
      "NUNITS                 64535 non-null int64\n",
      "ROOMS                  64535 non-null int64\n",
      "WEIGHT                 64535 non-null float64\n",
      "PER                    64535 non-null int64\n",
      "ZINC2                  64535 non-null int64\n",
      "ZADEQ                  64535 non-null object\n",
      "ZSMHC                  64535 non-null int64\n",
      "STRUCTURETYPE          64535 non-null int64\n",
      "OWNRENT                64535 non-null object\n",
      "UTILITY                64535 non-null float64\n",
      "OTHERCOST              64535 non-null float64\n",
      "COST06                 64535 non-null float64\n",
      "COST12                 64535 non-null float64\n",
      "COST08                 64535 non-null float64\n",
      "COSTMED                64535 non-null float64\n",
      "TOTSAL                 64535 non-null int64\n",
      "ASSISTED               64535 non-null int64\n",
      "GLMED                  64535 non-null int64\n",
      "GL30                   64535 non-null int64\n",
      "GL50                   64535 non-null int64\n",
      "GL80                   64535 non-null int64\n",
      "APLMED                 64535 non-null float64\n",
      "ABL30                  64535 non-null float64\n",
      "ABL50                  64535 non-null float64\n",
      "ABL80                  64535 non-null float64\n",
      "ABLMED                 64535 non-null float64\n",
      "BURDEN                 64535 non-null float64\n",
      "INCRELAMIPCT           64535 non-null float64\n",
      "INCRELAMICAT           64535 non-null int64\n",
      "INCRELPOVPCT           64535 non-null float64\n",
      "INCRELPOVCAT           64535 non-null int64\n",
      "INCRELFMRPCT           64535 non-null float64\n",
      "INCRELFMRCAT           64535 non-null int64\n",
      "COST06RELAMIPCT        64535 non-null float64\n",
      "COST06RELAMICAT        64535 non-null int64\n",
      "COST06RELPOVPCT        64535 non-null float64\n",
      "COST06RELPOVCAT        64535 non-null int64\n",
      "COST06RELFMRPCT        64535 non-null float64\n",
      "COST06RELFMRCAT        64535 non-null int64\n",
      "COST08RELAMIPCT        64535 non-null float64\n",
      "COST08RELAMICAT        64535 non-null int64\n",
      "COST08RELPOVPCT        64535 non-null float64\n",
      "COST08RELPOVCAT        64535 non-null int64\n",
      "COST08RELFMRPCT        64535 non-null float64\n",
      "COST08RELFMRCAT        64535 non-null int64\n",
      "COST12RELAMIPCT        64535 non-null float64\n",
      "COST12RELAMICAT        64535 non-null int64\n",
      "COST12RELPOVPCT        64535 non-null float64\n",
      "COST12RELPOVCAT        64535 non-null int64\n",
      "COST12RELFMRPCT        64535 non-null float64\n",
      "COST12RELFMRCAT        64535 non-null int64\n",
      "COSTMedRELAMIPCT       64535 non-null float64\n",
      "COSTMedRELAMICAT       64535 non-null int64\n",
      "COSTMedRELPOVPCT       64535 non-null float64\n",
      "COSTMedRELPOVCAT       64535 non-null int64\n",
      "COSTMedRELFMRPCT       64535 non-null float64\n",
      "COSTMedRELFMRCAT       64535 non-null int64\n",
      "FMTZADEQ               64535 non-null object\n",
      "FMTMETRO3              64535 non-null object\n",
      "FMTBUILT               64535 non-null object\n",
      "FMTSTRUCTURETYPE       64535 non-null object\n",
      "FMTBEDRMS              64535 non-null object\n",
      "FMTOWNRENT             64535 non-null object\n",
      "FMTCOST06RELPOVCAT     64535 non-null object\n",
      "FMTCOST08RELPOVCAT     64535 non-null object\n",
      "FMTCOST12RELPOVCAT     64535 non-null object\n",
      "FMTCOSTMEDRELPOVCAT    64535 non-null object\n",
      "FMTINCRELPOVCAT        64535 non-null object\n",
      "FMTCOST06RELFMRCAT     64535 non-null object\n",
      "FMTCOST08RELFMRCAT     64535 non-null object\n",
      "FMTCOST12RELFMRCAT     64535 non-null object\n",
      "FMTCOSTMEDRELFMRCAT    64535 non-null object\n",
      "FMTINCRELFMRCAT        64535 non-null object\n",
      "FMTCOST06RELAMICAT     64535 non-null object\n",
      "FMTCOST08RELAMICAT     64535 non-null object\n",
      "FMTCOST12RELAMICAT     64535 non-null object\n",
      "FMTCOSTMEDRELAMICAT    64535 non-null object\n",
      "FMTINCRELAMICAT        64535 non-null object\n",
      "FMTASSISTED            64535 non-null object\n",
      "FMTBURDEN              64535 non-null object\n",
      "FMTREGION              64535 non-null object\n",
      "FMTSTATUS              64535 non-null object\n",
      "dtypes: float64(28), int64(39), object(32)\n",
      "memory usage: 48.7+ MB\n"
     ]
    }
   ],
   "source": [
    "df_national.info()"
   ]
  },
  {
   "cell_type": "code",
   "execution_count": 36,
   "metadata": {},
   "outputs": [
    {
     "data": {
      "text/html": [
       "<div>\n",
       "<style scoped>\n",
       "    .dataframe tbody tr th:only-of-type {\n",
       "        vertical-align: middle;\n",
       "    }\n",
       "\n",
       "    .dataframe tbody tr th {\n",
       "        vertical-align: top;\n",
       "    }\n",
       "\n",
       "    .dataframe thead th {\n",
       "        text-align: right;\n",
       "    }\n",
       "</style>\n",
       "<table border=\"1\" class=\"dataframe\">\n",
       "  <thead>\n",
       "    <tr style=\"text-align: right;\">\n",
       "      <th></th>\n",
       "      <th>CONTROL</th>\n",
       "      <th>AGE1</th>\n",
       "      <th>METRO3</th>\n",
       "      <th>REGION</th>\n",
       "      <th>LMED</th>\n",
       "      <th>FMR</th>\n",
       "      <th>L30</th>\n",
       "      <th>L50</th>\n",
       "      <th>L80</th>\n",
       "      <th>IPOV</th>\n",
       "      <th>...</th>\n",
       "      <th>FMTINCRELFMRCAT</th>\n",
       "      <th>FMTCOST06RELAMICAT</th>\n",
       "      <th>FMTCOST08RELAMICAT</th>\n",
       "      <th>FMTCOST12RELAMICAT</th>\n",
       "      <th>FMTCOSTMEDRELAMICAT</th>\n",
       "      <th>FMTINCRELAMICAT</th>\n",
       "      <th>FMTASSISTED</th>\n",
       "      <th>FMTBURDEN</th>\n",
       "      <th>FMTREGION</th>\n",
       "      <th>FMTSTATUS</th>\n",
       "    </tr>\n",
       "  </thead>\n",
       "  <tbody>\n",
       "    <tr>\n",
       "      <th>0</th>\n",
       "      <td>'100003130103'</td>\n",
       "      <td>82</td>\n",
       "      <td>'3'</td>\n",
       "      <td>'1'</td>\n",
       "      <td>73738</td>\n",
       "      <td>956</td>\n",
       "      <td>15738</td>\n",
       "      <td>26213</td>\n",
       "      <td>40322</td>\n",
       "      <td>11067</td>\n",
       "      <td>...</td>\n",
       "      <td>'1 LTE 50% FMR'</td>\n",
       "      <td>'2 30 - 50% AMI'</td>\n",
       "      <td>'2 30 - 50% AMI'</td>\n",
       "      <td>'2 30 - 50% AMI'</td>\n",
       "      <td>'2 30 - 50% AMI'</td>\n",
       "      <td>'2 30 - 50% AMI'</td>\n",
       "      <td>'.'</td>\n",
       "      <td>'2 30% to 50%'</td>\n",
       "      <td>'-5'</td>\n",
       "      <td>'-5'</td>\n",
       "    </tr>\n",
       "    <tr>\n",
       "      <th>1</th>\n",
       "      <td>'100006110249'</td>\n",
       "      <td>50</td>\n",
       "      <td>'5'</td>\n",
       "      <td>'3'</td>\n",
       "      <td>55846</td>\n",
       "      <td>1100</td>\n",
       "      <td>17165</td>\n",
       "      <td>28604</td>\n",
       "      <td>45744</td>\n",
       "      <td>24218</td>\n",
       "      <td>...</td>\n",
       "      <td>'3 GT FMR'</td>\n",
       "      <td>'4 60 - 80% AMI'</td>\n",
       "      <td>'4 60 - 80% AMI'</td>\n",
       "      <td>'6 100 - 120% AMI'</td>\n",
       "      <td>'4 60 - 80% AMI'</td>\n",
       "      <td>'7 120% AMI +'</td>\n",
       "      <td>'.'</td>\n",
       "      <td>'1 Less than 30%'</td>\n",
       "      <td>'-5'</td>\n",
       "      <td>'-5'</td>\n",
       "    </tr>\n",
       "    <tr>\n",
       "      <th>2</th>\n",
       "      <td>'100006370140'</td>\n",
       "      <td>53</td>\n",
       "      <td>'5'</td>\n",
       "      <td>'3'</td>\n",
       "      <td>55846</td>\n",
       "      <td>1100</td>\n",
       "      <td>13750</td>\n",
       "      <td>22897</td>\n",
       "      <td>36614</td>\n",
       "      <td>15470</td>\n",
       "      <td>...</td>\n",
       "      <td>'2 50.1 - 100% FMR'</td>\n",
       "      <td>'4 60 - 80% AMI'</td>\n",
       "      <td>'5 80 - 100% AMI'</td>\n",
       "      <td>'6 100 - 120% AMI'</td>\n",
       "      <td>'4 60 - 80% AMI'</td>\n",
       "      <td>'4 60 - 80% AMI'</td>\n",
       "      <td>'.'</td>\n",
       "      <td>'3 50% or More'</td>\n",
       "      <td>'-5'</td>\n",
       "      <td>'-5'</td>\n",
       "    </tr>\n",
       "    <tr>\n",
       "      <th>3</th>\n",
       "      <td>'100006520140'</td>\n",
       "      <td>67</td>\n",
       "      <td>'5'</td>\n",
       "      <td>'3'</td>\n",
       "      <td>55846</td>\n",
       "      <td>949</td>\n",
       "      <td>13750</td>\n",
       "      <td>22897</td>\n",
       "      <td>36614</td>\n",
       "      <td>13964</td>\n",
       "      <td>...</td>\n",
       "      <td>'2 50.1 - 100% FMR'</td>\n",
       "      <td>'6 100 - 120% AMI'</td>\n",
       "      <td>'7 120% AMI +'</td>\n",
       "      <td>'7 120% AMI +'</td>\n",
       "      <td>'5 80 - 100% AMI'</td>\n",
       "      <td>'4 60 - 80% AMI'</td>\n",
       "      <td>'.'</td>\n",
       "      <td>'1 Less than 30%'</td>\n",
       "      <td>'-5'</td>\n",
       "      <td>'-5'</td>\n",
       "    </tr>\n",
       "    <tr>\n",
       "      <th>4</th>\n",
       "      <td>'100007130148'</td>\n",
       "      <td>26</td>\n",
       "      <td>'1'</td>\n",
       "      <td>'3'</td>\n",
       "      <td>60991</td>\n",
       "      <td>737</td>\n",
       "      <td>14801</td>\n",
       "      <td>24628</td>\n",
       "      <td>39421</td>\n",
       "      <td>15492</td>\n",
       "      <td>...</td>\n",
       "      <td>'3 GT FMR'</td>\n",
       "      <td>'3 50 - 60% AMI'</td>\n",
       "      <td>'3 50 - 60% AMI'</td>\n",
       "      <td>'3 50 - 60% AMI'</td>\n",
       "      <td>'3 50 - 60% AMI'</td>\n",
       "      <td>'7 120% AMI +'</td>\n",
       "      <td>'0 Not Assisted'</td>\n",
       "      <td>'1 Less than 30%'</td>\n",
       "      <td>'-5'</td>\n",
       "      <td>'-5'</td>\n",
       "    </tr>\n",
       "  </tbody>\n",
       "</table>\n",
       "<p>5 rows × 99 columns</p>\n",
       "</div>"
      ],
      "text/plain": [
       "          CONTROL  AGE1 METRO3 REGION   LMED   FMR    L30    L50    L80  \\\n",
       "0  '100003130103'    82    '3'    '1'  73738   956  15738  26213  40322   \n",
       "1  '100006110249'    50    '5'    '3'  55846  1100  17165  28604  45744   \n",
       "2  '100006370140'    53    '5'    '3'  55846  1100  13750  22897  36614   \n",
       "3  '100006520140'    67    '5'    '3'  55846   949  13750  22897  36614   \n",
       "4  '100007130148'    26    '1'    '3'  60991   737  14801  24628  39421   \n",
       "\n",
       "    IPOV  ...      FMTINCRELFMRCAT  FMTCOST06RELAMICAT FMTCOST08RELAMICAT  \\\n",
       "0  11067  ...      '1 LTE 50% FMR'    '2 30 - 50% AMI'   '2 30 - 50% AMI'   \n",
       "1  24218  ...           '3 GT FMR'    '4 60 - 80% AMI'   '4 60 - 80% AMI'   \n",
       "2  15470  ...  '2 50.1 - 100% FMR'    '4 60 - 80% AMI'  '5 80 - 100% AMI'   \n",
       "3  13964  ...  '2 50.1 - 100% FMR'  '6 100 - 120% AMI'     '7 120% AMI +'   \n",
       "4  15492  ...           '3 GT FMR'    '3 50 - 60% AMI'   '3 50 - 60% AMI'   \n",
       "\n",
       "   FMTCOST12RELAMICAT  FMTCOSTMEDRELAMICAT   FMTINCRELAMICAT  \\\n",
       "0    '2 30 - 50% AMI'     '2 30 - 50% AMI'  '2 30 - 50% AMI'   \n",
       "1  '6 100 - 120% AMI'     '4 60 - 80% AMI'    '7 120% AMI +'   \n",
       "2  '6 100 - 120% AMI'     '4 60 - 80% AMI'  '4 60 - 80% AMI'   \n",
       "3      '7 120% AMI +'    '5 80 - 100% AMI'  '4 60 - 80% AMI'   \n",
       "4    '3 50 - 60% AMI'     '3 50 - 60% AMI'    '7 120% AMI +'   \n",
       "\n",
       "        FMTASSISTED          FMTBURDEN  FMTREGION  FMTSTATUS  \n",
       "0               '.'     '2 30% to 50%'       '-5'       '-5'  \n",
       "1               '.'  '1 Less than 30%'       '-5'       '-5'  \n",
       "2               '.'    '3 50% or More'       '-5'       '-5'  \n",
       "3               '.'  '1 Less than 30%'       '-5'       '-5'  \n",
       "4  '0 Not Assisted'  '1 Less than 30%'       '-5'       '-5'  \n",
       "\n",
       "[5 rows x 99 columns]"
      ]
     },
     "execution_count": 36,
     "metadata": {},
     "output_type": "execute_result"
    }
   ],
   "source": [
    "df_national.head()"
   ]
  },
  {
   "cell_type": "markdown",
   "metadata": {},
   "source": [
    "### Exploratory questions\n",
    "#### Pairwise visualizations\n",
    "\n",
    "Useful columns \n",
    "- `ZINC2`: Household Income\n",
    "- `ZSMHC`: Monthly Housing Costs"
   ]
  },
  {
   "cell_type": "code",
   "execution_count": 37,
   "metadata": {},
   "outputs": [],
   "source": [
    "# Make function for scatter plot \n",
    "def plot_columns(x_col, y_col, x_name, y_name):\n",
    "    plt.figure(figsize=(6,6))\n",
    "    #plt.scatter(df_national[x_col], df_national[y_col], s=10, alpha=0.5)\n",
    "    plt.scatter(df_national[x_col], df_national[y_col])\n",
    "    plt.xlabel(x_name)\n",
    "    plt.ylabel(y_name)\n",
    "    plt.show()"
   ]
  },
  {
   "cell_type": "code",
   "execution_count": 44,
   "metadata": {},
   "outputs": [
    {
     "data": {
      "image/png": "[encoded data removed]",
      "text/plain": [
       "<Figure size 432x432 with 1 Axes>"
      ]
     },
     "metadata": {
      "needs_background": "light"
     },
     "output_type": "display_data"
    }
   ],
   "source": [
    "plot_columns(x_col='BURDEN', y_col='ZSMHC', x_name='Housing as Fraction of Income', y_name='Monthly Housing Costs')"
   ]
  },
  {
   "cell_type": "code",
   "execution_count": 46,
   "metadata": {},
   "outputs": [
    {
     "data": {
      "text/plain": [
       "count    64535.000000\n",
       "mean         2.063421\n",
       "std        116.039132\n",
       "min         -9.000000\n",
       "25%          0.116927\n",
       "50%          0.220192\n",
       "75%          0.375980\n",
       "max      15600.000000\n",
       "Name: BURDEN, dtype: float64"
      ]
     },
     "execution_count": 46,
     "metadata": {},
     "output_type": "execute_result"
    }
   ],
   "source": [
    "df_national.BURDEN.describe()"
   ]
  },
  {
   "cell_type": "code",
   "execution_count": 53,
   "metadata": {},
   "outputs": [],
   "source": [
    "error = 0"
   ]
  },
  {
   "cell_type": "code",
   "execution_count": 62,
   "metadata": {},
   "outputs": [
    {
     "data": {
      "text/plain": [
       "range(0, 64535)"
      ]
     },
     "execution_count": 62,
     "metadata": {},
     "output_type": "execute_result"
    }
   ],
   "source": [
    "range(len(df_national.BURDEN))"
   ]
  },
  {
   "cell_type": "code",
   "execution_count": 63,
   "metadata": {},
   "outputs": [],
   "source": [
    "for row in range(len(df_national.BURDEN)):\n",
    "    if df_national.BURDEN[row] > 1:\n",
    "        error += 1\n"
   ]
  },
  {
   "cell_type": "code",
   "execution_count": 64,
   "metadata": {},
   "outputs": [
    {
     "data": {
      "text/plain": [
       "4516"
      ]
     },
     "execution_count": 64,
     "metadata": {},
     "output_type": "execute_result"
    }
   ],
   "source": [
    "error"
   ]
  },
  {
   "cell_type": "code",
   "execution_count": 56,
   "metadata": {},
   "outputs": [
    {
     "data": {
      "text/plain": [
       "4516"
      ]
     },
     "execution_count": 56,
     "metadata": {},
     "output_type": "execute_result"
    }
   ],
   "source": [
    "(df_national.BURDEN > 1).sum()"
   ]
  },
  {
   "cell_type": "code",
   "execution_count": 65,
   "metadata": {},
   "outputs": [
    {
     "data": {
      "text/plain": [
       "count    6.453500e+04\n",
       "mean     6.135584e+04\n",
       "std      7.440530e+04\n",
       "min     -1.170000e+02\n",
       "25%      1.498700e+04\n",
       "50%      3.998700e+04\n",
       "75%      8.123100e+04\n",
       "max      1.061921e+06\n",
       "Name: ZINC2, dtype: float64"
      ]
     },
     "execution_count": 65,
     "metadata": {},
     "output_type": "execute_result"
    }
   ],
   "source": [
    "df_national.ZINC2.describe()"
   ]
  },
  {
   "cell_type": "code",
   "execution_count": null,
   "metadata": {},
   "outputs": [],
   "source": []
  }
 ],
 "metadata": {
  "kernelspec": {
   "display_name": "Python 3",
   "language": "python",
   "name": "python3"
  },
  "language_info": {
   "codemirror_mode": {
    "name": "ipython",
    "version": 3
   },
   "file_extension": ".py",
   "mimetype": "text/x-python",
   "name": "python",
   "nbconvert_exporter": "python",
   "pygments_lexer": "ipython3",
   "version": "3.7.3"
  }
 },
 "nbformat": 4,
 "nbformat_minor": 2
}
